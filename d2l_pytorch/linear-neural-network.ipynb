{
 "cells": [
  {
   "cell_type": "markdown",
   "id": "da65e2cd",
   "metadata": {},
   "source": [
    "# 线性神经网络"
   ]
  },
  {
   "cell_type": "markdown",
   "id": "e19e80cd",
   "metadata": {},
   "source": [
    "# 1. 线性回归\n",
    "\n",
    "何谓回归？\n",
    "\n"
   ]
  },
  {
   "cell_type": "markdown",
   "id": "eb1362ac",
   "metadata": {},
   "source": [
    "## 1.1 线性回归的基本元素\n",
    "\n",
    "线性回归（linear regression）可以追溯到19世纪初， 它在回归的各种标准工具中最简单而且最流行。 线性回归基于几个简单的假设： 首先，假设自变量\n",
    "和因变量$\\mathbb{x}$和$y$之间的关系是线性的， 即$y$可以表示为$\\mathbb{x}$中元素的加权和，这里通常允许包含观测值的一些噪声； 其次，我们假设任何噪声都比较正常，如噪声遵循正态分布。\n",
    "\n",
    "机器学习术语：\n",
    "训练（数据）集，测试集，样本，标签label 或 目标 target，特征feature或协变量covariate\n",
    "\n",
    "### 1.1.1 线性模型\n",
    "\n",
    "在开始寻找最好的模型参数（model parameters）和之前， 我们还需要两个东西： （1）一种模型质量的度量方式，即模型拟合得有多好的定量评估； （2）一种能够更新模型以提高模型预测质量的方法。\n",
    "\n",
    "### 1.1.2 损失函数\n",
    "\n",
    "\n",
    "### 1.1.3 解析解(analytic solution, 闭式解, closed-form solution)\n",
    "\n",
    "least square solution to the problem of fitting X using the model $y = X w + b $: $$w^* = (X^T X)^{-1}X^T y$$\n",
    "\n",
    "注1：机器学习领域通常将w和b分开来写，但是闭式解中的$w^*$和$X$应该理解为扩展版本，把b吸收进去了\n",
    "\n",
    "注2：机器学习领域中用$X$表示数据集时，通常是一行表示一个数据样本向量\n",
    "\n",
    "### 1.1.4 随机梯度下降(SGD: stochastic gradient descent)\n",
    "\n",
    "### 1.1.5 用模型进行预测"
   ]
  },
  {
   "cell_type": "markdown",
   "id": "fa006262",
   "metadata": {},
   "source": [
    "## 1.2 向量化加速"
   ]
  },
  {
   "cell_type": "code",
   "execution_count": 2,
   "id": "e5334899",
   "metadata": {},
   "outputs": [
    {
     "name": "stdout",
     "output_type": "stream",
     "text": [
      "2.0.0\n",
      "True\n"
     ]
    }
   ],
   "source": [
    "%matplotlib inline\n",
    "import math\n",
    "import time\n",
    "import numpy as np\n",
    "import torch\n",
    "print(torch.__version__)\n",
    "print(torch.cuda.is_available())"
   ]
  },
  {
   "cell_type": "code",
   "execution_count": 3,
   "id": "2dcb8fa6",
   "metadata": {},
   "outputs": [
    {
     "ename": "ModuleNotFoundError",
     "evalue": "No module named 'd2l'",
     "output_type": "error",
     "traceback": [
      "\u001b[1;31m---------------------------------------------------------------------------\u001b[0m",
      "\u001b[1;31mModuleNotFoundError\u001b[0m                       Traceback (most recent call last)",
      "Cell \u001b[1;32mIn[3], line 2\u001b[0m\n\u001b[0;32m      1\u001b[0m \u001b[38;5;66;03m#from d2l import torch as d2l\u001b[39;00m\n\u001b[1;32m----> 2\u001b[0m \u001b[38;5;28;01mimport\u001b[39;00m \u001b[38;5;21;01md2l\u001b[39;00m\n",
      "\u001b[1;31mModuleNotFoundError\u001b[0m: No module named 'd2l'"
     ]
    }
   ],
   "source": [
    "#from d2l import torch as d2l\n",
    "import d2l"
   ]
  },
  {
   "cell_type": "code",
   "execution_count": null,
   "id": "225f6236",
   "metadata": {},
   "outputs": [],
   "source": [
    "n = 10000\n",
    "a = torch.ones([n])\n",
    "b = torch.ones([n])"
   ]
  },
  {
   "cell_type": "code",
   "execution_count": null,
   "id": "d941ec52",
   "metadata": {},
   "outputs": [],
   "source": [
    "# 定义一个计时器类，用于进行运行时间的基准测试\n",
    "class Timer:  #@save\n",
    "    \"\"\"记录多次运行时间\"\"\"\n",
    "    def __init__(self):\n",
    "        self.times = []\n",
    "        self.start()\n",
    "\n",
    "    def start(self):\n",
    "        \"\"\"启动计时器\"\"\"\n",
    "        self.tik = time.time()\n",
    "\n",
    "    def stop(self):\n",
    "        \"\"\"停止计时器并将时间记录在列表中\"\"\"\n",
    "        self.times.append(time.time() - self.tik)\n",
    "        return self.times[-1]\n",
    "\n",
    "    def avg(self):\n",
    "        \"\"\"返回平均时间\"\"\"\n",
    "        return sum(self.times) / len(self.times)\n",
    "\n",
    "    def sum(self):\n",
    "        \"\"\"返回时间总和\"\"\"\n",
    "        return sum(self.times)\n",
    "\n",
    "    def cumsum(self):\n",
    "        \"\"\"返回累计时间\"\"\"\n",
    "        return np.array(self.times).cumsum().tolist()"
   ]
  },
  {
   "cell_type": "code",
   "execution_count": null,
   "id": "55344511",
   "metadata": {},
   "outputs": [],
   "source": [
    "c = torch.zeros(n)\n",
    "timer = Timer()\n",
    "for i in range(n):\n",
    "    c[i] = a[i] + b[i]\n",
    "f'{timer.stop():.5f} sec'"
   ]
  },
  {
   "cell_type": "code",
   "execution_count": null,
   "id": "b1d02390",
   "metadata": {},
   "outputs": [],
   "source": [
    "timer.start()\n",
    "d = a + b\n",
    "f'{timer.stop():.5f} sec'"
   ]
  },
  {
   "cell_type": "markdown",
   "id": "05141f49",
   "metadata": {},
   "source": [
    "结果很明显，第二种方法比第一种方法快得多。 矢量化代码通常会带来数量级的加速。 另外，我们将更多的数学运算放到库中，而无须自己编写那么多的计算，从而减少了出错的可能性。"
   ]
  },
  {
   "cell_type": "markdown",
   "id": "621adffe",
   "metadata": {},
   "source": [
    "## 1.3 正态分布与平方损失\n"
   ]
  },
  {
   "cell_type": "code",
   "execution_count": null,
   "id": "a3b135f1",
   "metadata": {},
   "outputs": [],
   "source": [
    "from d2l import torch as d2l\n",
    "def normal(x, mu, sigma):\n",
    "    p = 1 / math.sqrt(2 * math.pi * sigma**2)\n",
    "    return p * np.exp(-0.5 / sigma**2 * (x - mu)**2)\n",
    "\n",
    "# 再次使用numpy进行可视化\n",
    "x = np.arange(-7, 7, 0.01)\n",
    "\n",
    "# 均值和标准差对\n",
    "params = [(0, 1), (0, 2), (3, 1)]\n",
    "d2l.plot(x, [normal(x, mu, sigma) for mu, sigma in params], xlabel='x',\n",
    "         ylabel='p(x)', figsize=(4.5, 2.5),\n",
    "         legend=[f'mean {mu}, std {sigma}' for mu, sigma in params])"
   ]
  },
  {
   "cell_type": "code",
   "execution_count": null,
   "id": "5811924c",
   "metadata": {},
   "outputs": [],
   "source": [
    "import matplotlib.pyplot as plt\n",
    "import numpy as np\n",
    "from scipy.stats import norm\n",
    "# print(norm.ppf(0.01), norm.ppf(0.99))\n",
    "x = np.linspace(-10, 10,100)\n",
    "\n",
    "fig,ax = plt.subplots(figsize=(6,4))\n",
    "ax.plot(x,norm.pdf(x))\n",
    "ax.plot(x,norm.pdf(x,loc=0,scale=2))\n",
    "ax.plot(x,norm.pdf(x,loc=0,scale=4))\n",
    "ax.plot(x,norm.pdf(x,loc=1,scale=3))\n",
    "ax.grid()"
   ]
  },
  {
   "cell_type": "code",
   "execution_count": null,
   "id": "ed0bbc24",
   "metadata": {},
   "outputs": [],
   "source": []
  }
 ],
 "metadata": {
  "kernelspec": {
   "display_name": "Python 3 (ipykernel)",
   "language": "python",
   "name": "python3"
  },
  "language_info": {
   "codemirror_mode": {
    "name": "ipython",
    "version": 3
   },
   "file_extension": ".py",
   "mimetype": "text/x-python",
   "name": "python",
   "nbconvert_exporter": "python",
   "pygments_lexer": "ipython3",
   "version": "3.10.9"
  }
 },
 "nbformat": 4,
 "nbformat_minor": 5
}
